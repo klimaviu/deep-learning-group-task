{
 "cells": [
  {
   "cell_type": "code",
   "execution_count": 1,
   "metadata": {},
   "outputs": [],
   "source": [
    "import os\n",
    "import re\n",
    "import cv2\n",
    "import glob\n",
    "import json\n",
    "import time\n",
    "import random\n",
    "import string\n",
    "import imageio\n",
    "import collections\n",
    "import numpy as np\n",
    "from PIL import Image\n",
    "from typing import Tuple\n",
    "from shapely.geometry import Polygon\n",
    "import torch\n",
    "import torchvision\n",
    "import torchvision.transforms as transforms\n",
    "import pandas as pd\n",
    "import matplotlib.pyplot as plt\n",
    "\n",
    "# Import dataset that relies on synthetic_anno.json for change detection annotations\n",
    "from syntheticpairs_dataset import SyntheticPairsDataSet\n",
    "from models.changedetection_model import ChangeDetectionModel, ChangeDetectionModelResNet101\n",
    "from create_dataset_json import get_scene_name_from_file, find_files\n",
    "from constants import Action"
   ]
  },
  {
   "cell_type": "code",
   "execution_count": 2,
   "metadata": {},
   "outputs": [],
   "source": [
    "class_mapping = {\n",
    "    Action.NULL.value : \"NULL\",\n",
    "    Action.REMOVED.value : \"REMOVED\",\n",
    "    Action.ADDED.value : \"ADDED\",\n",
    "    Action.SHIFTED.value : \"SHIFTED\",\n",
    "}\n",
    "\n",
    "latest_model_resnet50 = \"change_detection_model_20240518221803.pt\"\n",
    "latest_model_resnet101 = \"change_detection_model_resnet101_20240519040834.pt\""
   ]
  },
  {
   "cell_type": "code",
   "execution_count": 3,
   "metadata": {},
   "outputs": [
    {
     "data": {
      "text/plain": [
       "{0: 'NULL', 1: 'REMOVED', 2: 'ADDED', 3: 'SHIFTED'}"
      ]
     },
     "execution_count": 3,
     "metadata": {},
     "output_type": "execute_result"
    }
   ],
   "source": [
    "class_mapping "
   ]
  },
  {
   "cell_type": "code",
   "execution_count": 4,
   "metadata": {},
   "outputs": [],
   "source": [
    "# This dictionary defines hyperparameters for the dataset\n",
    "# Complete configurations for each experiment can be found in the configs folder\n",
    "test_set_params = {\n",
    "        \"dataset_name\": \"syntheticpairs\",\n",
    "        \"root\": \"D:\\\\DeepLearningFiles\\\\renders_multicam_diff_all\",\n",
    "        \"loader_params\": {\n",
    "            \"batch_size\": 8,\n",
    "            \"drop_last\": False,\n",
    "            \"pin_memory\": True,\n",
    "            \"num_workers\": 8\n",
    "        },\n",
    "        \"mode\": \"test\",\n",
    "        \"crop\": True,\n",
    "        \"resize\": True,\n",
    "        \"spatial_resolution\": [256, 180],\n",
    "        \"overfit\": False,\n",
    "        \"normalize\": True,\n",
    "        \"augment\": False,\n",
    "        \"shuffle\": False\n",
    "    }\n",
    "\n",
    "model_params = dict({\n",
    "        \"model_name\": \"changedetection\",\n",
    "        \"num_classes\": 4,\n",
    "        \"dataset_name\": \"syntheticpairs\",\n",
    "        \"rgb\": True, # Use RGB inputs\n",
    "        \"depth\": False, # Use depth inputs\n",
    "        \"spatial_resolution\": [256, 180],\n",
    "        \"mode\": \"test\",\n",
    "        \"max_epochs\": 3, # originally set to 4000\n",
    "        \"lr\": 0.0004,\n",
    "        \"save_path\": \"/app/saved_models/changedetection_benchmark/\",\n",
    "        \"weights_path\": \"/app/saved_models/changedetection_benchmark/\",\n",
    "        \"load_weights\": -1,\n",
    "        \"val_epochs\": [1950],\n",
    "        \"val_rate\": 50,\n",
    "        \"save_rate\": 50,\n",
    "        \"lr_policy\": \"cosine\",\n",
    "        \"lr_decay_iters\": 10,\n",
    "        \"batch_size\": 16,\n",
    "        \"loss_weights\": True\n",
    "    })"
   ]
  },
  {
   "cell_type": "code",
   "execution_count": 5,
   "metadata": {},
   "outputs": [],
   "source": [
    "def calculate_iou(predictions, labels, num_classes):\n",
    "    iou_per_class = []\n",
    "    \n",
    "    # Flatten lists\n",
    "    predictions = [item for sublist in predictions for item in sublist]\n",
    "    labels = [item for sublist in labels for item in sublist]\n",
    "    \n",
    "    predictions = np.array(predictions)\n",
    "    labels = np.array(labels)\n",
    "    \n",
    "    for cls in range(num_classes):\n",
    "        pred_cls = (predictions == cls)\n",
    "        label_cls = (labels == cls)\n",
    "        \n",
    "        intersection = np.logical_and(pred_cls, label_cls).sum()\n",
    "        union = np.logical_or(pred_cls, label_cls).sum()\n",
    "        \n",
    "        if union == 0:\n",
    "            iou_per_class.append(np.nan)  \n",
    "        else:\n",
    "            iou_per_class.append(intersection / union)\n",
    "    \n",
    "    return iou_per_class"
   ]
  },
  {
   "cell_type": "code",
   "execution_count": 6,
   "metadata": {},
   "outputs": [
    {
     "name": "stderr",
     "output_type": "stream",
     "text": [
      "c:\\Users\\Ugne\\AppData\\Local\\Programs\\Python\\Python311\\Lib\\site-packages\\torchvision\\models\\_utils.py:208: UserWarning: The parameter 'pretrained' is deprecated since 0.13 and may be removed in the future, please use 'weights' instead.\n",
      "  warnings.warn(\n",
      "c:\\Users\\Ugne\\AppData\\Local\\Programs\\Python\\Python311\\Lib\\site-packages\\torchvision\\models\\_utils.py:223: UserWarning: Arguments other than a weight enum or `None` for 'weights' are deprecated since 0.13 and may be removed in the future. The current behavior is equivalent to passing `weights=None`.\n",
      "  warnings.warn(msg)\n"
     ]
    },
    {
     "name": "stdout",
     "output_type": "stream",
     "text": [
      "Loaded weights into backbone\n",
      "Number total params  39643962\n"
     ]
    },
    {
     "data": {
      "text/plain": [
       "<All keys matched successfully>"
      ]
     },
     "execution_count": 6,
     "metadata": {},
     "output_type": "execute_result"
    }
   ],
   "source": [
    "testset = SyntheticPairsDataSet(test_set_params)\n",
    "testloader = torch.utils.data.DataLoader(testset, batch_size=test_set_params[\"loader_params\"][\"batch_size\"],\n",
    "                                          shuffle=test_set_params[\"shuffle\"], num_workers=test_set_params[\"loader_params\"][\"num_workers\"])\n",
    "model = ChangeDetectionModel(model_params).model\n",
    "\n",
    "if torch.cuda.is_available():\n",
    "    model = model.cuda()\n",
    "    model = torch.nn.DataParallel(model)\n",
    "\n",
    "model.load_state_dict(torch.load(latest_model_resnet50))"
   ]
  },
  {
   "cell_type": "code",
   "execution_count": 7,
   "metadata": {},
   "outputs": [
    {
     "name": "stdout",
     "output_type": "stream",
     "text": [
      "Loaded weights into backbone\n",
      "Number total params  39643962\n",
      "Loaded weights into backbone\n",
      "Number total params  58636090\n"
     ]
    },
    {
     "data": {
      "text/plain": [
       "<All keys matched successfully>"
      ]
     },
     "execution_count": 7,
     "metadata": {},
     "output_type": "execute_result"
    }
   ],
   "source": [
    "model_resnet101 = ChangeDetectionModelResNet101(model_params).model\n",
    "\n",
    "if torch.cuda.is_available():\n",
    "    model_resnet101 = model_resnet101.cuda()\n",
    "    model_resnet101 = torch.nn.DataParallel(model_resnet101)\n",
    "\n",
    "model_resnet101.load_state_dict(torch.load(latest_model_resnet101))"
   ]
  },
  {
   "cell_type": "code",
   "execution_count": 8,
   "metadata": {},
   "outputs": [],
   "source": [
    "def test_model(model, class_mapping, num_classes):\n",
    "    model.eval()\n",
    "    model_inputs = []\n",
    "    model_labels = []\n",
    "    model_outputs = []\n",
    "\n",
    "    with torch.no_grad():\n",
    "        for i, data in enumerate(testloader):\n",
    "                # Process data to correct types\n",
    "                img1, img2, label, scene, depth1, depth2 = data\n",
    "                img1 = img1.float()\n",
    "                img2 = img2.float()\n",
    "                depth1 = depth1.float()\n",
    "                depth2 = depth2.float()\n",
    "                label = label.type(torch.LongTensor)\n",
    "                \n",
    "                # Move data to GPU if available\n",
    "                if torch.cuda.is_available():\n",
    "                    img1 = img1.cuda()\n",
    "                    img2 = img2.cuda()\n",
    "                    depth1 = depth1.cuda()\n",
    "                    depth2 = depth2.cuda()\n",
    "                    label = label.cuda()\n",
    "                \n",
    "                # Get model output\n",
    "                model_input = (img1, img2, depth1, depth2)\n",
    "                model_out = model(model_input)\n",
    "                _, predicted_labels = torch.max(model_out.data, 1)\n",
    "\n",
    "                model_inputs.extend(img1.cpu().numpy())\n",
    "                model_outputs.append(predicted_labels.cpu().numpy().tolist())\n",
    "                model_labels.append(label.cpu().numpy().tolist())\n",
    "\n",
    "        ious = calculate_iou(model_outputs, model_labels, num_classes)\n",
    "\n",
    "        for idx, iou in enumerate(ious):\n",
    "            print(f\"Class {class_mapping[idx]} IoU: {iou:.4f}\")\n",
    "\n",
    "        return model_inputs, model_outputs, model_labels, ious"
   ]
  },
  {
   "cell_type": "markdown",
   "metadata": {},
   "source": [
    "## Results"
   ]
  },
  {
   "cell_type": "markdown",
   "metadata": {},
   "source": [
    "### DeepLabV3 with Resnet50 backbone"
   ]
  },
  {
   "cell_type": "code",
   "execution_count": 9,
   "metadata": {},
   "outputs": [
    {
     "name": "stdout",
     "output_type": "stream",
     "text": [
      "Class NULL IoU: 0.7661\n",
      "Class REMOVED IoU: nan\n",
      "Class ADDED IoU: 0.0257\n",
      "Class SHIFTED IoU: 0.0242\n"
     ]
    }
   ],
   "source": [
    "model_resnet50_results = test_model(model, class_mapping, 4)"
   ]
  },
  {
   "cell_type": "markdown",
   "metadata": {},
   "source": [
    "### DeepLabV3 with Resnet101 backbone"
   ]
  },
  {
   "cell_type": "code",
   "execution_count": 10,
   "metadata": {},
   "outputs": [
    {
     "name": "stdout",
     "output_type": "stream",
     "text": [
      "Class NULL IoU: 0.7333\n",
      "Class REMOVED IoU: nan\n",
      "Class ADDED IoU: 0.0277\n",
      "Class SHIFTED IoU: 0.0004\n"
     ]
    }
   ],
   "source": [
    "model_resnet101_results = test_model(model_resnet101, class_mapping, 4)"
   ]
  }
 ],
 "metadata": {
  "kernelspec": {
   "display_name": "Python 3",
   "language": "python",
   "name": "python3"
  },
  "language_info": {
   "codemirror_mode": {
    "name": "ipython",
    "version": 3
   },
   "file_extension": ".py",
   "mimetype": "text/x-python",
   "name": "python",
   "nbconvert_exporter": "python",
   "pygments_lexer": "ipython3",
   "version": "3.11.8"
  }
 },
 "nbformat": 4,
 "nbformat_minor": 2
}
